{
  "nbformat": 4,
  "nbformat_minor": 0,
  "metadata": {
    "colab": {
      "provenance": []
    },
    "kernelspec": {
      "name": "python3",
      "display_name": "Python 3"
    },
    "language_info": {
      "name": "python"
    }
  },
  "cells": [
    {
      "cell_type": "code",
      "execution_count": null,
      "metadata": {
        "id": "4wE__jPoyYyd"
      },
      "outputs": [],
      "source": []
    },
    {
      "cell_type": "markdown",
      "source": [
        "Name: Poorvika R   \n",
        "Date:11-09-2024"
      ],
      "metadata": {
        "id": "ULIHexsVyccQ"
      }
    },
    {
      "cell_type": "markdown",
      "source": [
        "1a) variable: variable is a memory location used to store values"
      ],
      "metadata": {
        "id": "H4ipFbQ_yoSj"
      }
    },
    {
      "cell_type": "code",
      "source": [
        "name = \"Poorvika\" #name is variable\n",
        "print(name)"
      ],
      "metadata": {
        "id": "JC0yEKOxy4TS"
      },
      "execution_count": null,
      "outputs": []
    },
    {
      "cell_type": "markdown",
      "source": [
        "1b)A variable is a memory location used to store a value whereas the constant is a fixed value. Python does not contain any constants\n",
        "\n",
        "2a) 1.Integer"
      ],
      "metadata": {
        "id": "oSZK4EM_yq_-"
      }
    },
    {
      "cell_type": "code",
      "source": [
        "num=int(input(\"Enter a number: \"))\n",
        "print(num)"
      ],
      "metadata": {
        "colab": {
          "base_uri": "https://localhost:8080/"
        },
        "id": "ktVAf_I10HcU",
        "outputId": "a1ffc72f-4ead-4e0a-f4b2-36ec0649b078"
      },
      "execution_count": 1,
      "outputs": [
        {
          "output_type": "stream",
          "name": "stdout",
          "text": [
            "Enter a number: 25\n",
            "25\n"
          ]
        }
      ]
    },
    {
      "cell_type": "markdown",
      "source": [
        "2a)2.Float"
      ],
      "metadata": {
        "id": "MFqec7Nr0ZJD"
      }
    },
    {
      "cell_type": "code",
      "source": [
        "a=float(input(\"enter a number: \"))\n",
        "print(a)"
      ],
      "metadata": {
        "colab": {
          "base_uri": "https://localhost:8080/"
        },
        "id": "_3D2cl6q0P_2",
        "outputId": "1e005f9b-f5ad-435b-ed46-9ca974b08606"
      },
      "execution_count": 2,
      "outputs": [
        {
          "output_type": "stream",
          "name": "stdout",
          "text": [
            "enter a number: 5.4\n",
            "5.4\n"
          ]
        }
      ]
    },
    {
      "cell_type": "markdown",
      "source": [
        "2a)3.String"
      ],
      "metadata": {
        "id": "e4XiZWSp0vAY"
      }
    },
    {
      "cell_type": "code",
      "source": [
        "b=str(input(\"Enter a string of characters: \"))\n",
        "print(b)"
      ],
      "metadata": {
        "colab": {
          "base_uri": "https://localhost:8080/"
        },
        "id": "CEN5yjoB0l3-",
        "outputId": "a053941c-1fcd-4de5-a6fa-c6298ae634b0"
      },
      "execution_count": 3,
      "outputs": [
        {
          "output_type": "stream",
          "name": "stdout",
          "text": [
            "Enter a string of characters: python\n",
            "python\n"
          ]
        }
      ]
    },
    {
      "cell_type": "markdown",
      "source": [
        "2a)4.Boolean"
      ],
      "metadata": {
        "id": "uGmvCm6O1M9b"
      }
    },
    {
      "cell_type": "code",
      "source": [
        "a=10\n",
        "b=20\n",
        "c=a==b\n",
        "print(bool(c))"
      ],
      "metadata": {
        "colab": {
          "base_uri": "https://localhost:8080/"
        },
        "id": "k5ln4FG-0tMY",
        "outputId": "f09576ea-5a17-4443-bfb4-c0ebbbb4b2b4"
      },
      "execution_count": 4,
      "outputs": [
        {
          "output_type": "stream",
          "name": "stdout",
          "text": [
            "False\n"
          ]
        }
      ]
    },
    {
      "cell_type": "markdown",
      "source": [
        "2b)"
      ],
      "metadata": {
        "id": "08qV3skx1ba6"
      }
    },
    {
      "cell_type": "code",
      "source": [
        "a=10\n",
        "print(\"type of a is\",{type(a)})\n",
        "b=9.5\n",
        "print(\"type of a is\",{type(b)})\n",
        "c=\"poorvika\"\n",
        "print(\"type of a is\",{type(c)})\n",
        "d=[1,2,3]\n",
        "print(\"type of a is\",{type(d)})\n",
        "e=(1,2,3)\n",
        "print(\"type of a is\",{type(e)})\n",
        "f=True\n",
        "print(\"type of a is\",{type(f)})"
      ],
      "metadata": {
        "id": "wS-JaEUt1YHa"
      },
      "execution_count": null,
      "outputs": []
    },
    {
      "cell_type": "markdown",
      "source": [
        "3a)1.Addition: It is a arithmatic operator used to add two inputs"
      ],
      "metadata": {
        "id": "56nQyu7Y2Erg"
      }
    },
    {
      "cell_type": "code",
      "source": [
        "a=10\n",
        "b=20\n",
        "c=a+b\n",
        "print(c)"
      ],
      "metadata": {
        "id": "EJwkGyg72OmZ"
      },
      "execution_count": null,
      "outputs": []
    },
    {
      "cell_type": "markdown",
      "source": [
        "3a)2.Subtraction: It is a arithmatic operator used to subtract two inputs"
      ],
      "metadata": {
        "id": "OdInsUzM2XLW"
      }
    },
    {
      "cell_type": "code",
      "source": [
        "a=20\n",
        "b=10\n",
        "c=a-b\n",
        "print(c)"
      ],
      "metadata": {
        "id": "irLO6e-E2iAC"
      },
      "execution_count": null,
      "outputs": []
    },
    {
      "cell_type": "markdown",
      "source": [
        "3a)3.Multiplication: It is a arithmatic operator used to multiply two inputs"
      ],
      "metadata": {
        "id": "mtWvCDv92n57"
      }
    },
    {
      "cell_type": "code",
      "source": [
        "a=50\n",
        "b=10\n",
        "c=a*b\n",
        "print(c)"
      ],
      "metadata": {
        "id": "GIzas8Az20SV"
      },
      "execution_count": null,
      "outputs": []
    },
    {
      "cell_type": "markdown",
      "source": [
        "3a)4.Division: It is arithmatic operator used to divide two inputs"
      ],
      "metadata": {
        "id": "e6RAQgMT25Ix"
      }
    },
    {
      "cell_type": "code",
      "source": [
        "a=25\n",
        "b=5\n",
        "c=a/b\n",
        "print(c)"
      ],
      "metadata": {
        "id": "hjXSsYc93CWk"
      },
      "execution_count": null,
      "outputs": []
    },
    {
      "cell_type": "markdown",
      "source": [
        "3a)5.Floor Division: It is a arithmatic operator which divides the first number by another number and rounds down the result to the nearest whole number"
      ],
      "metadata": {
        "id": "rm_lb3oP3JMW"
      }
    },
    {
      "cell_type": "code",
      "source": [
        "a=53\n",
        "b=4\n",
        "c=a//b\n",
        "print(c)"
      ],
      "metadata": {
        "id": "juFGHVVQ3hkM"
      },
      "execution_count": null,
      "outputs": []
    },
    {
      "cell_type": "markdown",
      "source": [
        "3a)6.Modulus: It is a arithmatic operator that gives the remainder"
      ],
      "metadata": {
        "id": "Gfud-hW_3xzo"
      }
    },
    {
      "cell_type": "code",
      "source": [
        "a=10\n",
        "b=20\n",
        "c=a%b\n",
        "print(c)"
      ],
      "metadata": {
        "id": "uLoYNHTr4A6J"
      },
      "execution_count": null,
      "outputs": []
    },
    {
      "cell_type": "markdown",
      "source": [
        "3a)7.Exponentiation: Number multiplied as many times as its power"
      ],
      "metadata": {
        "id": "5_AEm7mo4JGF"
      }
    },
    {
      "cell_type": "code",
      "source": [
        "a=4**6\n",
        "print(a)"
      ],
      "metadata": {
        "id": "ysLY7jRn4Uly"
      },
      "execution_count": null,
      "outputs": []
    },
    {
      "cell_type": "markdown",
      "source": [
        "3b)Area of a rectangle"
      ],
      "metadata": {
        "id": "06IDsQkx4bT9"
      }
    },
    {
      "cell_type": "code",
      "source": [
        "length=int(5)\n",
        "width=int(10)\n",
        "area=leangth*width\n",
        "print(area)"
      ],
      "metadata": {
        "id": "Zv-g02Y04hHT"
      },
      "execution_count": null,
      "outputs": []
    },
    {
      "cell_type": "markdown",
      "source": [
        "4a)1. Equal to: It is a comparision operator which says both the inputs are equal"
      ],
      "metadata": {
        "id": "CTF55aeu4x2p"
      }
    },
    {
      "cell_type": "code",
      "source": [
        "a=4\n",
        "b=4\n",
        "c=a==bprint(c)"
      ],
      "metadata": {
        "id": "6bVdSmd54-CD"
      },
      "execution_count": null,
      "outputs": []
    },
    {
      "cell_type": "markdown",
      "source": [
        "4a)2. NOt equal to: it is a comparision operator which says both the inputs are not equal"
      ],
      "metadata": {
        "id": "RHEgm_iA5DvM"
      }
    },
    {
      "cell_type": "code",
      "source": [
        "a=5\n",
        "b=9\n",
        "c= a != b\n",
        "print(c)"
      ],
      "metadata": {
        "id": "i3EruD0-5Q3h"
      },
      "execution_count": null,
      "outputs": []
    },
    {
      "cell_type": "markdown",
      "source": [
        "4a)3.Greater than: it is used to compare two values"
      ],
      "metadata": {
        "id": "bGjBGQf55al7"
      }
    },
    {
      "cell_type": "code",
      "source": [
        "a=15\n",
        "b=10\n",
        "c=a>b\n",
        "print(c)"
      ],
      "metadata": {
        "id": "sLXO4GWi5pXt"
      },
      "execution_count": null,
      "outputs": []
    },
    {
      "cell_type": "markdown",
      "source": [
        "4a)4.Less than:it is used to compare two values"
      ],
      "metadata": {
        "id": "oXrAiwBs5aZa"
      }
    },
    {
      "cell_type": "code",
      "source": [
        "a=20\n",
        "b=30\n",
        "c=b>a\n",
        "print(c)"
      ],
      "metadata": {
        "id": "C3pZitsj57Jr"
      },
      "execution_count": null,
      "outputs": []
    },
    {
      "cell_type": "markdown",
      "source": [
        "4a)5.Greater than or equal to:it is used to compare two values"
      ],
      "metadata": {
        "id": "LzHHbNlf6B6w"
      }
    },
    {
      "cell_type": "code",
      "source": [
        "a=5\n",
        "b=4\n",
        "print(a>=b)"
      ],
      "metadata": {
        "id": "Oc2lb10m6KJF"
      },
      "execution_count": null,
      "outputs": []
    },
    {
      "cell_type": "markdown",
      "source": [
        "4a)6.Less than or equal to:It is used to compare two values"
      ],
      "metadata": {
        "id": "LIhkaBD_6QCa"
      }
    },
    {
      "cell_type": "code",
      "source": [
        "a=4\n",
        "b=5\n",
        "print(a<=B)"
      ],
      "metadata": {
        "id": "DEOtEtnC6bOd"
      },
      "execution_count": null,
      "outputs": []
    },
    {
      "cell_type": "markdown",
      "source": [
        "4b)"
      ],
      "metadata": {
        "id": "Mu8WquUS6zbv"
      }
    },
    {
      "cell_type": "code",
      "source": [
        "num = int(input(\"enter a number: \"))\n",
        "if num>0:\n",
        "  if num%2 == 0:\n",
        "    print(\"Number is positive and even.\")\n",
        "  else:\n",
        "    print(\"Number is positive and odd.\")\n",
        "elif num == 0:\n",
        "  print(\"Number is zero\")\n",
        "else:\n",
        "  print(\"Number is negative\")"
      ],
      "metadata": {
        "colab": {
          "base_uri": "https://localhost:8080/"
        },
        "id": "_I7w3nHK61vr",
        "outputId": "47914d2c-5d0e-4041-a940-5c280504e16e"
      },
      "execution_count": 5,
      "outputs": [
        {
          "output_type": "stream",
          "name": "stdout",
          "text": [
            "enter a number: 5\n",
            "Number is positive and odd.\n"
          ]
        }
      ]
    },
    {
      "cell_type": "markdown",
      "source": [
        "5a)Type casting is a conversion of one data type into another. Implicit type casting is done by the program itself whereas the explicit type casting is conversion is done by the programmer using built-in function"
      ],
      "metadata": {
        "id": "5xwfkBe87rZo"
      }
    },
    {
      "cell_type": "code",
      "source": [
        "a=3\n",
        "b=4\n",
        "c=a*b\n",
        "print(c)\n",
        "print({type(c)})"
      ],
      "metadata": {
        "id": "89Jchymy7lW6"
      },
      "execution_count": null,
      "outputs": []
    },
    {
      "cell_type": "code",
      "source": [
        "a=3\n",
        "b=float(a)\n",
        "print(b)"
      ],
      "metadata": {
        "id": "fQiY2ZRN8j1X"
      },
      "execution_count": null,
      "outputs": []
    },
    {
      "cell_type": "markdown",
      "source": [
        "5b)1. Float to an integer"
      ],
      "metadata": {
        "id": "tTINaHWx8qJA"
      }
    },
    {
      "cell_type": "code",
      "source": [
        "a=5.5\n",
        "b=int(a)\n",
        "print(b)"
      ],
      "metadata": {
        "id": "D6y5hAHE8zHc"
      },
      "execution_count": null,
      "outputs": []
    },
    {
      "cell_type": "markdown",
      "source": [
        "5b)2.Integer to a string"
      ],
      "metadata": {
        "id": "Ia1jUFLv86DM"
      }
    },
    {
      "cell_type": "code",
      "source": [
        "a=300\n",
        "b=str(a)\n",
        "print(b)"
      ],
      "metadata": {
        "id": "at4zPVlP8-3j"
      },
      "execution_count": null,
      "outputs": []
    },
    {
      "cell_type": "markdown",
      "source": [
        "5b)3.String to a float"
      ],
      "metadata": {
        "id": "EO4fYao29FKq"
      }
    },
    {
      "cell_type": "code",
      "source": [
        "a=\"300\"\n",
        "b=float(a)\n",
        "print(b)"
      ],
      "metadata": {
        "id": "IsL2qSaL9Eq6"
      },
      "execution_count": null,
      "outputs": []
    },
    {
      "cell_type": "markdown",
      "source": [
        "6)1.Adds two numbers and print the result"
      ],
      "metadata": {
        "id": "uhXtlwJ69S_i"
      }
    },
    {
      "cell_type": "code",
      "source": [
        "a=10\n",
        "b=25\n",
        "c=a+b\n",
        "print(\"the sum is\",c)"
      ],
      "metadata": {
        "id": "_JiqXV1R9aD4"
      },
      "execution_count": null,
      "outputs": []
    },
    {
      "cell_type": "markdown",
      "source": [
        "6)2.Substract the second number from the frist and prints the result"
      ],
      "metadata": {
        "id": "MUNL7sHD9txE"
      }
    },
    {
      "cell_type": "code",
      "source": [
        "a=25\n",
        "b=5\n",
        "c=a-b\n",
        "print(\"the result is\",c)"
      ],
      "metadata": {
        "id": "nurZSH-594W-"
      },
      "execution_count": null,
      "outputs": []
    },
    {
      "cell_type": "markdown",
      "source": [
        "6)3.Multiplies the two numbers and prints the result"
      ],
      "metadata": {
        "id": "NKctdKJu9__8"
      }
    },
    {
      "cell_type": "code",
      "source": [
        "a=10\n",
        "b=20\n",
        "c=a*b\n",
        "print(\"the result is\",c)"
      ],
      "metadata": {
        "id": "vAHcFlHL-Mmp"
      },
      "execution_count": null,
      "outputs": []
    },
    {
      "cell_type": "markdown",
      "source": [
        "6)4.Divides the first number by the second and prints the result(handle division by zero)"
      ],
      "metadata": {
        "id": "mJlJ9IFS-MDS"
      }
    },
    {
      "cell_type": "code",
      "source": [
        "a=30\n",
        "b=3\n",
        "c=a/b\n",
        "print(\"the result is\",c)"
      ],
      "metadata": {
        "id": "2Euyclbg-kBt"
      },
      "execution_count": null,
      "outputs": []
    },
    {
      "cell_type": "markdown",
      "source": [
        "6)5.Converts the sum of the numbers to a string and print the type of the result"
      ],
      "metadata": {
        "id": "hKl9gwnu-rvz"
      }
    },
    {
      "cell_type": "code",
      "source": [
        "a=22\n",
        "b=29\n",
        "c=a+b\n",
        "d=str(c)\n",
        "print(d)\n",
        "print({type(d)})"
      ],
      "metadata": {
        "id": "NP_hzbeF-2CK"
      },
      "execution_count": null,
      "outputs": []
    }
  ]
}